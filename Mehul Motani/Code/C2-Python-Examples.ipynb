{
 "cells": [
  {
   "cell_type": "markdown",
   "metadata": {},
   "source": [
    "### Let's learn why Python is awesome.\n",
    "\n",
    "### First, we have iterators.\n",
    "\n",
    "Lists are a basic Python object: https://www.w3schools.com/python/python_lists.asp <br>\n",
    "Check out: https://www.w3schools.com/python/python_iterators.asp\n",
    "\n",
    "Here is how you loop in \"c\"\n",
    "\n",
    "```\n",
    "for(int i=0; i<9; i+=2)\n",
    "{\n",
    "    print(i);\n",
    "}\n",
    "```\n",
    "\n",
    "What will the output be? Can you figure it out? <br>\n",
    "\n",
    "\n",
    "<!--\n",
    "```\n",
    "0 2 4 6 8\n",
    "```\n",
    "-->\n",
    "\n",
    "Here is how you do it in python:\n",
    "```\n",
    "for i in range(0, 9, 2):\n",
    "    print(i)\n",
    "```\n",
    "\n"
   ]
  },
  {
   "cell_type": "code",
   "execution_count": 3,
   "metadata": {},
   "outputs": [
    {
     "name": "stdout",
     "output_type": "stream",
     "text": [
      "0\n",
      "1\n",
      "2\n",
      "3\n",
      "4\n",
      "5\n",
      "6\n",
      "7\n",
      "8\n",
      "Break\n",
      "0\n",
      "2\n",
      "4\n",
      "6\n",
      "8\n"
     ]
    }
   ],
   "source": [
    "for i in range(0,9):\n",
    "    print(i)\n",
    "\n",
    "print(\"Break\")\n",
    "\n",
    "for j in  range(0,9,2):\n",
    "    print(j)\n",
    "    "
   ]
  },
  {
   "cell_type": "markdown",
   "metadata": {},
   "source": [
    "### Looping is fun and fast! Here are two more examples."
   ]
  },
  {
   "cell_type": "code",
   "execution_count": 4,
   "metadata": {},
   "outputs": [
    {
     "name": "stdout",
     "output_type": "stream",
     "text": [
      "apple\n",
      "banana\n",
      "cherry\n"
     ]
    }
   ],
   "source": [
    "mytuple = (\"apple\", \"banana\", \"cherry\")\n",
    "\n",
    "for x in mytuple:\n",
    "  print(x)\n"
   ]
  },
  {
   "cell_type": "code",
   "execution_count": 5,
   "metadata": {},
   "outputs": [
    {
     "name": "stdout",
     "output_type": "stream",
     "text": [
      "b\n",
      "a\n",
      "n\n",
      "a\n",
      "n\n",
      "a\n"
     ]
    }
   ],
   "source": [
    "mystr = \"banana\"\n",
    "\n",
    "for x in mystr:\n",
    "  print(x)\n"
   ]
  },
  {
   "cell_type": "markdown",
   "metadata": {},
   "source": [
    "### The second cool idea is list comprehension. \n",
    "#### List comprehension is a fast compact way of building for loops.\n",
    "Check out: https://www.pythonforbeginners.com/basics/list-comprehensions-in-python\n",
    "\n",
    "Let's first solve a problem without list comprehension. <br>\n",
    "The following code generates the square of the integers from 0 to 10. <br>\n",
    "Notice the clean for-loop."
   ]
  },
  {
   "cell_type": "code",
   "execution_count": 6,
   "metadata": {},
   "outputs": [
    {
     "data": {
      "text/plain": [
       "[0, 1, 4, 9, 16, 25, 36, 49, 64, 81, 100]"
      ]
     },
     "execution_count": 6,
     "metadata": {},
     "output_type": "execute_result"
    }
   ],
   "source": [
    "# L is my list to hold the answers\n",
    "L = []\n",
    "for n in range(11):\n",
    "    L.append(n ** 2)\n",
    "L\n"
   ]
  },
  {
   "cell_type": "markdown",
   "metadata": {},
   "source": [
    "Here is the Pythonic way of doing it via list comprehension."
   ]
  },
  {
   "cell_type": "code",
   "execution_count": 7,
   "metadata": {},
   "outputs": [
    {
     "data": {
      "text/plain": [
       "[0, 1, 4, 9, 16, 25, 36, 49, 64, 81, 100]"
      ]
     },
     "execution_count": 7,
     "metadata": {},
     "output_type": "execute_result"
    }
   ],
   "source": [
    "[n ** 2 for n in range(11)]\n"
   ]
  },
  {
   "cell_type": "markdown",
   "metadata": {},
   "source": [
    "You can even condition on the iterator! <br>\n",
    "Here is code for computing the squares of the even numbers <br>\n",
    "and code for computing the squares of the odd numbers <br>"
   ]
  },
  {
   "cell_type": "code",
   "execution_count": 8,
   "metadata": {},
   "outputs": [
    {
     "data": {
      "text/plain": [
       "[0, 4, 16, 36, 64, 100]"
      ]
     },
     "execution_count": 8,
     "metadata": {},
     "output_type": "execute_result"
    }
   ],
   "source": [
    "[n ** 2 for n in range(11) if n % 2 == 0]"
   ]
  },
  {
   "cell_type": "code",
   "execution_count": 9,
   "metadata": {},
   "outputs": [
    {
     "data": {
      "text/plain": [
       "[1, 9, 25, 49, 81]"
      ]
     },
     "execution_count": 9,
     "metadata": {},
     "output_type": "execute_result"
    }
   ],
   "source": [
    "[n ** 2 for n in range(11) if n % 2 > 0]"
   ]
  },
  {
   "cell_type": "markdown",
   "metadata": {},
   "source": [
    "Let's look at one last example. <br>\n",
    "Problem: Suppose we want to remove vowels from a sentence.\n"
   ]
  },
  {
   "cell_type": "code",
   "execution_count": 10,
   "metadata": {},
   "outputs": [],
   "source": [
    "def for_soln(sentence):\n",
    "    vowels = 'aeiou'\n",
    "    filtered_list = []\n",
    "    for l in sentence:\n",
    "        if l.lower() not in vowels:\n",
    "            filtered_list.append(l)\n",
    "    return ''.join(filtered_list)\n",
    "    "
   ]
  },
  {
   "cell_type": "code",
   "execution_count": 12,
   "metadata": {},
   "outputs": [
    {
     "name": "stdout",
     "output_type": "stream",
     "text": [
      "Filtered result: My nm s Mhl Mtn sk!\n",
      "Filtered result:  My nm s Mhl Mtn sk!\n"
     ]
    }
   ],
   "source": [
    "sentence = 'My name is Mehul Motani Ask!'\n",
    "print(\"Filtered result: \" + for_soln(sentence))\n",
    "print(\"Filtered result: \", for_soln(sentence))\n"
   ]
  },
  {
   "cell_type": "markdown",
   "metadata": {},
   "source": [
    "## Homework: Solve the vowel removing problem with list comprehension"
   ]
  },
  {
   "cell_type": "code",
   "execution_count": null,
   "metadata": {},
   "outputs": [],
   "source": []
  }
 ],
 "metadata": {
  "kernelspec": {
   "display_name": "Python 3",
   "language": "python",
   "name": "python3"
  },
  "language_info": {
   "codemirror_mode": {
    "name": "ipython",
    "version": 3
   },
   "file_extension": ".py",
   "mimetype": "text/x-python",
   "name": "python",
   "nbconvert_exporter": "python",
   "pygments_lexer": "ipython3",
   "version": "3.7.6"
  }
 },
 "nbformat": 4,
 "nbformat_minor": 2
}
